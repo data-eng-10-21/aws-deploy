{
 "cells": [
  {
   "cell_type": "markdown",
   "metadata": {},
   "source": [
    "# Deploying our Application"
   ]
  },
  {
   "cell_type": "markdown",
   "metadata": {},
   "source": [
    "### Introduction"
   ]
  },
  {
   "cell_type": "markdown",
   "metadata": {},
   "source": [
    "Now that we have a running EC2 instance, the next step is to move the code from our local computer to our EC2 instance.  To do this, we'll need to install the required software like pip, copy the relevant local files to our machine, and boot up our flask application.  Let's get started.  "
   ]
  },
  {
   "cell_type": "markdown",
   "metadata": {},
   "source": [
    "### Installing Required Software"
   ]
  },
  {
   "cell_type": "markdown",
   "metadata": {},
   "source": [
    "To install the necessary software we need to access our machine via ssh.  "
   ]
  },
  {
   "cell_type": "markdown",
   "metadata": {},
   "source": [
    "`ssh -i \"flaskapp.pem\" ec2-user@ec2-18-206-145-235.compute-1.amazonaws.com -vvv`"
   ]
  },
  {
   "cell_type": "markdown",
   "metadata": {},
   "source": [
    "> We do this by referencing our pem file, and the EC2 endpoint.  The `-vvv` stands for verbose and provides a log of our files."
   ]
  },
  {
   "cell_type": "markdown",
   "metadata": {},
   "source": [
    "Ok, now it's time to install the necessary software.  On linux, we can do this with the `yum` command, which is an installer for linux.  We'll run the following:"
   ]
  },
  {
   "cell_type": "markdown",
   "metadata": {},
   "source": [
    "* `sudo yum upgrade`\n",
    "\n",
    "> Upgrade yum to the latest version.\n",
    "\n",
    "Then we can use yum to install `python3`, `pip`, and `tmux`.\n",
    "\n",
    "* `sudo yum install python3 python3-pip tmux`"
   ]
  },
  {
   "cell_type": "markdown",
   "metadata": {},
   "source": [
    "Then, still logged into our EC2 machine, let's create a new folder which is where we'll place our `app`.\n",
    "\n",
    "* `mkdir /home/ec2-user/app`"
   ]
  },
  {
   "cell_type": "markdown",
   "metadata": {},
   "source": [
    "### Adding our Application"
   ]
  },
  {
   "cell_type": "markdown",
   "metadata": {},
   "source": [
    "Next it's time to move the codebase to our EC2 machine.  We can do so by navigating to the parent folder of the code we want to copy.  And then copy our code to our ec2 machine with something like the following."
   ]
  },
  {
   "cell_type": "markdown",
   "metadata": {},
   "source": [
    "<img src=\"./scp_ip_address.png\" width=\"100%\">"
   ]
  },
  {
   "cell_type": "markdown",
   "metadata": {},
   "source": [
    "The line above uses the `-r` flag to copy the contents of the folder to the target destination.  \n",
    "\n",
    "> We specify the target destination with the following pattern `user@ec2_endpoint:target_folder`.  "
   ]
  },
  {
   "cell_type": "markdown",
   "metadata": {},
   "source": [
    "Ok, now that the code has been moved over to our application, ssh back into our EC2 machine and install the packages specified in `requirements.txt`.  We change into our `app` directory and then run the following. "
   ]
  },
  {
   "cell_type": "markdown",
   "metadata": {},
   "source": [
    "* `pip3 install --user -r requirements.txt`"
   ]
  },
  {
   "cell_type": "markdown",
   "metadata": {},
   "source": [
    "### Making Flask Visible"
   ]
  },
  {
   "cell_type": "markdown",
   "metadata": {},
   "source": [
    "Next we can boot up our flask app, but it turns out we still won't be able to view this from AWS.  Let's go to the flask documentation to see why."
   ]
  },
  {
   "cell_type": "markdown",
   "metadata": {},
   "source": [
    "> If you run the server you will notice that the server is only accessible from your own computer, not from any other in the network. This is the default because in debugging mode a user of the application can execute arbitrary Python code on your computer.\n",
    "\n",
    "> If you have the debugger disabled or trust the users on your network, you can make the server publicly available simply by adding --host=0.0.0.0 to the command line:\n",
    "\n",
    "> `$ flask run --host=0.0.0.0`\n",
    "\n",
    "> This tells your operating system to listen on all public IPs."
   ]
  },
  {
   "cell_type": "markdown",
   "metadata": {},
   "source": [
    "So if we change the host to `0.0.0.0`, it will listen for requests made to our public ip address.  We should also specify the port to line up to the port exposed on our EC2 machine: `port 80`.  We can set both of these with the following:"
   ]
  },
  {
   "cell_type": "markdown",
   "metadata": {},
   "source": [
    "```python\n",
    "app.run(host='0.0.0.0', port=80)\n",
    "```"
   ]
  },
  {
   "cell_type": "markdown",
   "metadata": {},
   "source": [
    "Ok, we're almost done.  In fact, we can boot up our flask app, by running the following:\n",
    "\n",
    "`sudo python3 run.py`.\n",
    "\n",
    "> If we do not run as sudo, we are likely to get a permission denied problem."
   ]
  },
  {
   "cell_type": "markdown",
   "metadata": {},
   "source": [
    "### Keep Listening with Tmux"
   ]
  },
  {
   "cell_type": "markdown",
   "metadata": {},
   "source": [
    "There's just one problem.  How can we exit out of our EC2 shell without terminating the server that's running the flask app?  We need to use tmux to solve this."
   ]
  },
  {
   "cell_type": "markdown",
   "metadata": {},
   "source": [
    "We installed tmux above when we ran `sudo yum install tmux`.  And this will allow us to manage different sessions in our terminal.  We'll use this to create a new session with our flask app running, and then allow that session to keep our flask app running, while we detach from the session and exit out of the terminal."
   ]
  },
  {
   "cell_type": "markdown",
   "metadata": {},
   "source": [
    "We'll start by creating a new tmux session."
   ]
  },
  {
   "cell_type": "markdown",
   "metadata": {},
   "source": [
    "`tmux new -s mytestapp`"
   ]
  },
  {
   "cell_type": "markdown",
   "metadata": {},
   "source": [
    "Then from inside of that session we again boot up our flask app.\n",
    "\n",
    "`sudo python3 run.py`"
   ]
  },
  {
   "cell_type": "markdown",
   "metadata": {},
   "source": [
    "Then we can detach from the tmux session by pressing `ctl-b` followed by `d`."
   ]
  },
  {
   "cell_type": "markdown",
   "metadata": {},
   "source": [
    "`ctl-b-d`"
   ]
  },
  {
   "cell_type": "markdown",
   "metadata": {},
   "source": [
    "Now if we list the tmux sessions, we'll see that the session still exists, we are just currently detached from the session."
   ]
  },
  {
   "cell_type": "markdown",
   "metadata": {},
   "source": [
    "```bash\n",
    "$ tmux ls\n",
    "logout\n",
    "Connection to 18.206.145.235 closed\n",
    "```"
   ]
  },
  {
   "cell_type": "markdown",
   "metadata": {},
   "source": [
    "Then we can safely exit from our EC2 instance, without shutting down our flask server.  And now, if we visit our public ip address, we'll see our application running."
   ]
  },
  {
   "cell_type": "markdown",
   "metadata": {},
   "source": [
    "<img src=\"./welcome-to-the-app.png\" width=\"70%\">"
   ]
  },
  {
   "cell_type": "markdown",
   "metadata": {},
   "source": [
    "### Summary"
   ]
  },
  {
   "cell_type": "markdown",
   "metadata": {},
   "source": [
    "In this lesson, we saw how we can move our deploy our flask application on our running EC2 instance.   We do so by connecting to our EC2 instance via ssh, and installing the requisite software."
   ]
  },
  {
   "cell_type": "markdown",
   "metadata": {},
   "source": [
    "`ssh -i \"flaskapp.pem\" ec2-user@ec2-18-206-145-235.compute-1.amazonaws.com -vvv`"
   ]
  },
  {
   "cell_type": "markdown",
   "metadata": {},
   "source": [
    "* `sudo yum upgrade`\n",
    "* `sudo yum install python3 python3-pip tmux`"
   ]
  },
  {
   "cell_type": "markdown",
   "metadata": {},
   "source": [
    "Then we move over our code with scp and install our pip packages."
   ]
  },
  {
   "cell_type": "markdown",
   "metadata": {},
   "source": [
    "<img src=\"./scp-to-aws.png\" width=\"80%\">"
   ]
  },
  {
   "cell_type": "markdown",
   "metadata": {},
   "source": [
    "* `sudo pip3 install -r requirements.txt`"
   ]
  },
  {
   "cell_type": "markdown",
   "metadata": {},
   "source": [
    "We change our port and ip so that our app listens to public requests on the exposed port:\n",
    "    \n",
    "```python\n",
    "app.run(host='0.0.0.0', port=80)\n",
    "```"
   ]
  },
  {
   "cell_type": "markdown",
   "metadata": {},
   "source": [
    "Then we use tmux to create a new session in our terminal, boot up our flask app, and then detach from the session, and exit the terminal."
   ]
  },
  {
   "cell_type": "markdown",
   "metadata": {},
   "source": [
    "`tmux new -s mytestapp`\n",
    "\n",
    "`sudo pip3 run.py`\n",
    "\n",
    "`ctl-b-d`\n",
    "\n",
    "`exit`"
   ]
  },
  {
   "cell_type": "markdown",
   "metadata": {},
   "source": [
    "### Resources"
   ]
  },
  {
   "cell_type": "markdown",
   "metadata": {},
   "source": [
    "[Twilio Deploy Flask Application](https://www.twilio.com/blog/deploy-flask-python-app-aws)"
   ]
  },
  {
   "cell_type": "markdown",
   "metadata": {},
   "source": [
    "[Docker Compose EC2](https://devops4solutions.com/docker-and-docker-compose-setup-on-aws-ec2-instance/)"
   ]
  },
  {
   "cell_type": "markdown",
   "metadata": {},
   "source": [
    "[ECS Elastic Container Service](https://docs.aws.amazon.com/AmazonECS/latest/developerguide/ecs-cli-tutorial-ec2.html)"
   ]
  },
  {
   "cell_type": "markdown",
   "metadata": {},
   "source": [
    "[Tmux Crash Course](https://thoughtbot.com/blog/a-tmux-crash-course)"
   ]
  }
 ],
 "metadata": {
  "kernelspec": {
   "display_name": "Python 3 (ipykernel)",
   "language": "python",
   "name": "python3"
  },
  "language_info": {
   "codemirror_mode": {
    "name": "ipython",
    "version": 3
   },
   "file_extension": ".py",
   "mimetype": "text/x-python",
   "name": "python",
   "nbconvert_exporter": "python",
   "pygments_lexer": "ipython3",
   "version": "3.10.6"
  }
 },
 "nbformat": 4,
 "nbformat_minor": 4
}
